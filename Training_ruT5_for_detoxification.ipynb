{
  "nbformat": 4,
  "nbformat_minor": 0,
  "metadata": {
    "colab": {
      "name": "Training ruT5 for detoxification.ipynb",
      "provenance": [],
      "collapsed_sections": []
    },
    "kernelspec": {
      "name": "python3",
      "display_name": "Python 3"
    },
    "language_info": {
      "name": "python"
    },
    "accelerator": "GPU"
  },
  "cells": [
    {
      "cell_type": "markdown",
      "source": [
        "# Train ruT5 for RUSSE Detox 2022"
      ],
      "metadata": {
        "id": "2RM65GlRzZGe"
      }
    },
    {
      "cell_type": "markdown",
      "source": [
        "## Proprocess data"
      ],
      "metadata": {
        "id": "ffX1Z-0EdKAl"
      }
    },
    {
      "cell_type": "code",
      "execution_count": null,
      "metadata": {
        "colab": {
          "base_uri": "https://localhost:8080/"
        },
        "id": "_7smUZzudGeq",
        "outputId": "d677aaae-e156-4579-aed6-28a5ef8de66b"
      },
      "outputs": [
        {
          "output_type": "stream",
          "name": "stdout",
          "text": [
            "Cloning into 'russe_detox_2022'...\n",
            "remote: Enumerating objects: 82, done.\u001b[K\n",
            "remote: Counting objects: 100% (53/53), done.\u001b[K\n",
            "remote: Compressing objects: 100% (35/35), done.\u001b[K\n",
            "remote: Total 82 (delta 22), reused 43 (delta 16), pack-reused 29\u001b[K\n",
            "Unpacking objects: 100% (82/82), done.\n"
          ]
        }
      ],
      "source": [
        "!git clone https://github.com/skoltech-nlp/russe_detox_2022"
      ]
    },
    {
      "cell_type": "code",
      "source": [
        "import re\n",
        "import pandas as pd\n",
        "\n",
        "# пока что мы объединяем dev и train: не хотим валидироваться на обучении, раз существует test-сет\n",
        "data_df = pd.concat([\n",
        "           pd.read_csv(\"./russe_detox_2022/data/input/dev.tsv\", sep=\"\\t\"),\n",
        "           pd.read_csv(\"./russe_detox_2022/data/input/train.tsv\", sep=\"\\t\").drop([\"index\"], axis=1)\n",
        "], axis=0).reset_index(drop=True)\n",
        "\n",
        "# если у фразы несколько вариантов исправления — просто кладём их все как пары input-target\n",
        "# исходим из того, что наши модели достаточно complex, чтобы это их не запутало\n",
        "train_dict = {\n",
        "    \"input\": [],\n",
        "    \"target\": []\n",
        "}\n",
        "\n",
        "for tc, nc1, nc2, nc3 in zip(list(data_df[\"toxic_comment\"]), list(data_df[\"neutral_comment1\"]),\n",
        "                             list(data_df[\"neutral_comment2\"]), list(data_df[\"neutral_comment3\"])):\n",
        "  # здесь немножко препроцесса: из-за особенностей sentencepiece-токенизации модели плохо понимают\n",
        "  # текст, написанный КАПСОМ. мы будем смотреть, если во входной строке больше 50% символов — капс,\n",
        "  # и в таком случае приводить её к нижнему регистру\n",
        "  input_str = str(tc)\n",
        "  if len([c for c in input_str if re.search(r\"[A-ZА-ЯЁ]\", c)]) / len(input_str) > 0.5:\n",
        "    input_str = input_str.lower()\n",
        "\n",
        "  train_dict[\"input\"].append(input_str)\n",
        "  train_dict[\"target\"].append(str(nc1))\n",
        "  if type(nc2) != float: # проверка на NaN\n",
        "    train_dict[\"input\"].append(input_str)\n",
        "    train_dict[\"target\"].append(str(nc2))\n",
        "  if type(nc3) != float: # проверка на NaN\n",
        "    train_dict[\"input\"].append(input_str)\n",
        "    train_dict[\"target\"].append(str(nc3))\n",
        "\n",
        "train_df = pd.DataFrame(train_dict)\n",
        "\n",
        "# перемешиваем датасет; задаём seed, чтобы результаты перемешивания совпадали между разными запусками\n",
        "train_df = train_df.sample(frac=1, random_state=42).reset_index(drop=True)\n",
        "\n",
        "# и всё, этого достаточно! токенизаторы у каждой модели свои, лемматизация и другая нормализация\n",
        "# только уменьшат количество полезных данных для transformer-нейросетей\n",
        "\n",
        "# пример того, что у нас в датафрейме:\n",
        "train_df.sample(10)"
      ],
      "metadata": {
        "colab": {
          "base_uri": "https://localhost:8080/",
          "height": 563
        },
        "id": "fId8DfLwdNNP",
        "outputId": "9eba8196-75d2-4100-bb4e-bfe7d2be836a"
      },
      "execution_count": null,
      "outputs": [
        {
          "output_type": "execute_result",
          "data": {
            "text/plain": [
              "                                                   input  \\\n",
              "463            а мне не сделал, вот хуй ты печальный :-(   \n",
              "3089         мне скуучноо(( может опять твиты посвящать?   \n",
              "8116   Отвалите от Волгограда, ублюдки, я не могу это...   \n",
              "12068  Каникулы. А я сука сижу дома из-за ебаной пого...   \n",
              "7599   С кем? С каким-то независимым оператором ? Что...   \n",
              "5138   автор иди ты на хуй со своими классами деду он...   \n",
              "5994   только заметила, что измазала кровью всю дубле...   \n",
              "12146          алгебра, литер и русск дописать!( а тебе?   \n",
              "7503   да а я сегодня познакомилась нехотя с блядью мужа   \n",
              "11317  спартак мы всеровно с тобой остальные пусть ху...   \n",
              "\n",
              "                                                  target  \n",
              "463                   А мне не сделал, вот ты печальный.  \n",
              "3089            Мне скучно. Может опять твиты посвящать?  \n",
              "8116       Отстаньте от Волгограда, я не могу это читать  \n",
              "12068       Каникулы. А я сижу дома из-за плохой погоды.  \n",
              "7599   С кем? С каким-то независимым оператором? Что ...  \n",
              "5138   автор отстань со своими классами деду они и со...  \n",
              "5994   только заметила, что измазала кровью всю дубле...  \n",
              "12146  Алгебру,литературу и русский язык дописать. А ...  \n",
              "7503   Да я сегодня познакомилась нехотя с любовницей...  \n",
              "11317  Спартак мы все равно с тобой, остальные пускай...  "
            ],
            "text/html": [
              "\n",
              "  <div id=\"df-6c45d692-b5a1-4fc8-a332-26a043aa9e18\">\n",
              "    <div class=\"colab-df-container\">\n",
              "      <div>\n",
              "<style scoped>\n",
              "    .dataframe tbody tr th:only-of-type {\n",
              "        vertical-align: middle;\n",
              "    }\n",
              "\n",
              "    .dataframe tbody tr th {\n",
              "        vertical-align: top;\n",
              "    }\n",
              "\n",
              "    .dataframe thead th {\n",
              "        text-align: right;\n",
              "    }\n",
              "</style>\n",
              "<table border=\"1\" class=\"dataframe\">\n",
              "  <thead>\n",
              "    <tr style=\"text-align: right;\">\n",
              "      <th></th>\n",
              "      <th>input</th>\n",
              "      <th>target</th>\n",
              "    </tr>\n",
              "  </thead>\n",
              "  <tbody>\n",
              "    <tr>\n",
              "      <th>463</th>\n",
              "      <td>а мне не сделал, вот хуй ты печальный :-(</td>\n",
              "      <td>А мне не сделал, вот ты печальный.</td>\n",
              "    </tr>\n",
              "    <tr>\n",
              "      <th>3089</th>\n",
              "      <td>мне скуучноо(( может опять твиты посвящать?</td>\n",
              "      <td>Мне скучно. Может опять твиты посвящать?</td>\n",
              "    </tr>\n",
              "    <tr>\n",
              "      <th>8116</th>\n",
              "      <td>Отвалите от Волгограда, ублюдки, я не могу это...</td>\n",
              "      <td>Отстаньте от Волгограда, я не могу это читать</td>\n",
              "    </tr>\n",
              "    <tr>\n",
              "      <th>12068</th>\n",
              "      <td>Каникулы. А я сука сижу дома из-за ебаной пого...</td>\n",
              "      <td>Каникулы. А я сижу дома из-за плохой погоды.</td>\n",
              "    </tr>\n",
              "    <tr>\n",
              "      <th>7599</th>\n",
              "      <td>С кем? С каким-то независимым оператором ? Что...</td>\n",
              "      <td>С кем? С каким-то независимым оператором? Что ...</td>\n",
              "    </tr>\n",
              "    <tr>\n",
              "      <th>5138</th>\n",
              "      <td>автор иди ты на хуй со своими классами деду он...</td>\n",
              "      <td>автор отстань со своими классами деду они и со...</td>\n",
              "    </tr>\n",
              "    <tr>\n",
              "      <th>5994</th>\n",
              "      <td>только заметила, что измазала кровью всю дубле...</td>\n",
              "      <td>только заметила, что измазала кровью всю дубле...</td>\n",
              "    </tr>\n",
              "    <tr>\n",
              "      <th>12146</th>\n",
              "      <td>алгебра, литер и русск дописать!( а тебе?</td>\n",
              "      <td>Алгебру,литературу и русский язык дописать. А ...</td>\n",
              "    </tr>\n",
              "    <tr>\n",
              "      <th>7503</th>\n",
              "      <td>да а я сегодня познакомилась нехотя с блядью мужа</td>\n",
              "      <td>Да я сегодня познакомилась нехотя с любовницей...</td>\n",
              "    </tr>\n",
              "    <tr>\n",
              "      <th>11317</th>\n",
              "      <td>спартак мы всеровно с тобой остальные пусть ху...</td>\n",
              "      <td>Спартак мы все равно с тобой, остальные пускай...</td>\n",
              "    </tr>\n",
              "  </tbody>\n",
              "</table>\n",
              "</div>\n",
              "      <button class=\"colab-df-convert\" onclick=\"convertToInteractive('df-6c45d692-b5a1-4fc8-a332-26a043aa9e18')\"\n",
              "              title=\"Convert this dataframe to an interactive table.\"\n",
              "              style=\"display:none;\">\n",
              "        \n",
              "  <svg xmlns=\"http://www.w3.org/2000/svg\" height=\"24px\"viewBox=\"0 0 24 24\"\n",
              "       width=\"24px\">\n",
              "    <path d=\"M0 0h24v24H0V0z\" fill=\"none\"/>\n",
              "    <path d=\"M18.56 5.44l.94 2.06.94-2.06 2.06-.94-2.06-.94-.94-2.06-.94 2.06-2.06.94zm-11 1L8.5 8.5l.94-2.06 2.06-.94-2.06-.94L8.5 2.5l-.94 2.06-2.06.94zm10 10l.94 2.06.94-2.06 2.06-.94-2.06-.94-.94-2.06-.94 2.06-2.06.94z\"/><path d=\"M17.41 7.96l-1.37-1.37c-.4-.4-.92-.59-1.43-.59-.52 0-1.04.2-1.43.59L10.3 9.45l-7.72 7.72c-.78.78-.78 2.05 0 2.83L4 21.41c.39.39.9.59 1.41.59.51 0 1.02-.2 1.41-.59l7.78-7.78 2.81-2.81c.8-.78.8-2.07 0-2.86zM5.41 20L4 18.59l7.72-7.72 1.47 1.35L5.41 20z\"/>\n",
              "  </svg>\n",
              "      </button>\n",
              "      \n",
              "  <style>\n",
              "    .colab-df-container {\n",
              "      display:flex;\n",
              "      flex-wrap:wrap;\n",
              "      gap: 12px;\n",
              "    }\n",
              "\n",
              "    .colab-df-convert {\n",
              "      background-color: #E8F0FE;\n",
              "      border: none;\n",
              "      border-radius: 50%;\n",
              "      cursor: pointer;\n",
              "      display: none;\n",
              "      fill: #1967D2;\n",
              "      height: 32px;\n",
              "      padding: 0 0 0 0;\n",
              "      width: 32px;\n",
              "    }\n",
              "\n",
              "    .colab-df-convert:hover {\n",
              "      background-color: #E2EBFA;\n",
              "      box-shadow: 0px 1px 2px rgba(60, 64, 67, 0.3), 0px 1px 3px 1px rgba(60, 64, 67, 0.15);\n",
              "      fill: #174EA6;\n",
              "    }\n",
              "\n",
              "    [theme=dark] .colab-df-convert {\n",
              "      background-color: #3B4455;\n",
              "      fill: #D2E3FC;\n",
              "    }\n",
              "\n",
              "    [theme=dark] .colab-df-convert:hover {\n",
              "      background-color: #434B5C;\n",
              "      box-shadow: 0px 1px 3px 1px rgba(0, 0, 0, 0.15);\n",
              "      filter: drop-shadow(0px 1px 2px rgba(0, 0, 0, 0.3));\n",
              "      fill: #FFFFFF;\n",
              "    }\n",
              "  </style>\n",
              "\n",
              "      <script>\n",
              "        const buttonEl =\n",
              "          document.querySelector('#df-6c45d692-b5a1-4fc8-a332-26a043aa9e18 button.colab-df-convert');\n",
              "        buttonEl.style.display =\n",
              "          google.colab.kernel.accessAllowed ? 'block' : 'none';\n",
              "\n",
              "        async function convertToInteractive(key) {\n",
              "          const element = document.querySelector('#df-6c45d692-b5a1-4fc8-a332-26a043aa9e18');\n",
              "          const dataTable =\n",
              "            await google.colab.kernel.invokeFunction('convertToInteractive',\n",
              "                                                     [key], {});\n",
              "          if (!dataTable) return;\n",
              "\n",
              "          const docLinkHtml = 'Like what you see? Visit the ' +\n",
              "            '<a target=\"_blank\" href=https://colab.research.google.com/notebooks/data_table.ipynb>data table notebook</a>'\n",
              "            + ' to learn more about interactive tables.';\n",
              "          element.innerHTML = '';\n",
              "          dataTable['output_type'] = 'display_data';\n",
              "          await google.colab.output.renderOutput(dataTable, element);\n",
              "          const docLink = document.createElement('div');\n",
              "          docLink.innerHTML = docLinkHtml;\n",
              "          element.appendChild(docLink);\n",
              "        }\n",
              "      </script>\n",
              "    </div>\n",
              "  </div>\n",
              "  "
            ]
          },
          "metadata": {},
          "execution_count": 1
        }
      ]
    },
    {
      "cell_type": "markdown",
      "source": [
        "## Train ruT5 (Sber)"
      ],
      "metadata": {
        "id": "zn0M-MPAzR00"
      }
    },
    {
      "cell_type": "code",
      "source": [
        "# устанавливаем необходимые библиотеки\n",
        "!pip install -qqq happytransformer sentencepiece"
      ],
      "metadata": {
        "colab": {
          "base_uri": "https://localhost:8080/"
        },
        "id": "ONu1k_Y-zbOF",
        "outputId": "1e9f0fbd-22f1-4446-e9cf-2b79d1ae72ba"
      },
      "execution_count": null,
      "outputs": [
        {
          "output_type": "stream",
          "name": "stdout",
          "text": [
            "\u001b[K     |████████████████████████████████| 45 kB 2.5 MB/s \n",
            "\u001b[K     |████████████████████████████████| 1.2 MB 17.3 MB/s \n",
            "\u001b[K     |████████████████████████████████| 325 kB 50.4 MB/s \n",
            "\u001b[K     |████████████████████████████████| 3.8 MB 42.6 MB/s \n",
            "\u001b[K     |████████████████████████████████| 67 kB 1.2 MB/s \n",
            "\u001b[K     |████████████████████████████████| 1.1 MB 45.0 MB/s \n",
            "\u001b[K     |████████████████████████████████| 212 kB 52.5 MB/s \n",
            "\u001b[K     |████████████████████████████████| 134 kB 57.5 MB/s \n",
            "\u001b[K     |████████████████████████████████| 127 kB 50.4 MB/s \n",
            "\u001b[K     |████████████████████████████████| 596 kB 61.6 MB/s \n",
            "\u001b[K     |████████████████████████████████| 6.5 MB 62.7 MB/s \n",
            "\u001b[K     |████████████████████████████████| 895 kB 58.8 MB/s \n",
            "\u001b[K     |████████████████████████████████| 94 kB 4.2 MB/s \n",
            "\u001b[K     |████████████████████████████████| 144 kB 54.0 MB/s \n",
            "\u001b[K     |████████████████████████████████| 271 kB 75.0 MB/s \n",
            "\u001b[31mERROR: pip's dependency resolver does not currently take into account all the packages that are installed. This behaviour is the source of the following dependency conflicts.\n",
            "datascience 0.10.6 requires folium==0.2.1, but you have folium 0.8.3 which is incompatible.\u001b[0m\n",
            "\u001b[?25h"
          ]
        }
      ]
    },
    {
      "cell_type": "code",
      "source": [
        "import csv\n",
        "\n",
        "# подготавливаем обучающие данные\n",
        "train_df.to_csv(\"train.csv\", index=False, quoting=csv.QUOTE_ALL)"
      ],
      "metadata": {
        "id": "QRrUSPzn3y1o"
      },
      "execution_count": null,
      "outputs": []
    },
    {
      "cell_type": "code",
      "source": [
        "from happytransformer import HappyTextToText, TTTrainArgs\n",
        "from transformers import AutoTokenizer\n",
        "\n",
        "# берём модель ruT5 от Сбера, размер чекпойнта base\n",
        "model = HappyTextToText(\"T5\", \"sberbank-ai/ruT5-base\")\n",
        "\n",
        "# 2 эпохи обучения\n",
        "args = TTTrainArgs(num_train_epochs=2) \n",
        "model.train(\"train.csv\", args=args)"
      ],
      "metadata": {
        "colab": {
          "base_uri": "https://localhost:8080/",
          "height": 1000,
          "referenced_widgets": [
            "fe24233fb8434d76810f8aacacd3730f",
            "c224659bb6a44d39a40fe60d6a388e20",
            "1c6479f2292d4186b11bd2e81d3dae94",
            "886e30edeb374488a7b4080cc3975cf1",
            "da5f63f8fdde44e0ac964ea69cc87b4a",
            "addddb094bdc42e088d7f819e68a7b77",
            "bbe5bc42d1184ca384345b7576d36413",
            "25816c1efb9e4b51a08b6ea8c30862d8",
            "e36bf6d5d4a94638a84df72878d847c6",
            "80b0d84a80b4422a8ebc612645135b3c",
            "9666daadd2c94a5399cf5437ca4377f7",
            "34d7d22b03f74968829b794a4a31cdfb",
            "d8a9512a6e854cb28402685bd1d87b22",
            "668c6bbe702c4473add58d7581abb957",
            "a3a9e5557f1e40eaa4b6ece4538bb9ab",
            "c7f40807796c4b77a154ae2667912c6e",
            "e036d7a809614fb3ac935c66cd314f28",
            "f299eb3a702d46f2ad0ab358b070dbe6",
            "fc0000b8afcb4e89af5f09ee6a8b9595",
            "2ae49ef821674e7292b36bc7311f0ef9",
            "7dc0abfc21964b86ab7841d5e758ae96",
            "1ed91bdf9f6c4479baf7a685f67fa43c",
            "d9523ae4792840bab8aaefe64ebf7709",
            "789976444bda4750b4aa4fe3646289dd",
            "1b9370e3cdba4ab3a1f72ab77f2e3669",
            "f0ca7548759b4797ac8b758c93c84938",
            "f377546345184d9bb3e6bd6a063de1b7",
            "20d52b5dd9e3450294812822b850a2fc",
            "067db709664449d9813b69cdbf0bd378",
            "9b43176aec4c44ec91cf8da52f7e3127",
            "7aa02449c5304c7190115294b0dec532",
            "7e1cfd28c6af4907a628218d61e56d56",
            "0aeaadd7298f4683af0e98351e05eb2c",
            "322063b6e42d4d47b7283f6731ca1939",
            "3aacd95270dd42ed9e96785cb588a070",
            "ec170e76c258430e84283a517f2d5cef",
            "bc0e44af76ce4d0ea1fd76b1425f9168",
            "912551966b2a476b98f8f5b3463308e5",
            "9453abb83dbe4132a4a8c435d3c9fb74",
            "f853dd1b5c224db7a02607a9d5aa5572",
            "79e72ec9531c4de9b85ddf98b5c5043c",
            "8a244cab8106465f84eee3af30fbcd39",
            "3605033f0fe04732b81b58869b0d9249",
            "f76fe26918ce4f2583f1136b14d6a51b"
          ]
        },
        "outputId": "3c247835-1fd4-4bf6-8c23-6c04521d7caa",
        "id": "2vl9R9Gpz4Cj"
      },
      "execution_count": null,
      "outputs": [
        {
          "output_type": "stream",
          "name": "stderr",
          "text": [
            "03/20/2022 20:41:53 - INFO - happytransformer.happy_transformer -   Using model: cuda\n",
            "03/20/2022 20:41:57 - INFO - happytransformer.happy_transformer -   Preprocessing training data...\n"
          ]
        },
        {
          "output_type": "stream",
          "name": "stdout",
          "text": [
            "Downloading and preparing dataset csv/default to /root/.cache/huggingface/datasets/csv/default-c151c153fba95462/0.0.0/433e0ccc46f9880962cc2b12065189766fbb2bee57a221866138fb9203c83519...\n"
          ]
        },
        {
          "output_type": "display_data",
          "data": {
            "text/plain": [
              "Downloading data files:   0%|          | 0/1 [00:00<?, ?it/s]"
            ],
            "application/vnd.jupyter.widget-view+json": {
              "version_major": 2,
              "version_minor": 0,
              "model_id": "fe24233fb8434d76810f8aacacd3730f"
            }
          },
          "metadata": {}
        },
        {
          "output_type": "display_data",
          "data": {
            "text/plain": [
              "Extracting data files:   0%|          | 0/1 [00:00<?, ?it/s]"
            ],
            "application/vnd.jupyter.widget-view+json": {
              "version_major": 2,
              "version_minor": 0,
              "model_id": "34d7d22b03f74968829b794a4a31cdfb"
            }
          },
          "metadata": {}
        },
        {
          "output_type": "stream",
          "name": "stdout",
          "text": [
            "Dataset csv downloaded and prepared to /root/.cache/huggingface/datasets/csv/default-c151c153fba95462/0.0.0/433e0ccc46f9880962cc2b12065189766fbb2bee57a221866138fb9203c83519. Subsequent calls will reuse this data.\n"
          ]
        },
        {
          "output_type": "display_data",
          "data": {
            "text/plain": [
              "  0%|          | 0/1 [00:00<?, ?it/s]"
            ],
            "application/vnd.jupyter.widget-view+json": {
              "version_major": 2,
              "version_minor": 0,
              "model_id": "d9523ae4792840bab8aaefe64ebf7709"
            }
          },
          "metadata": {}
        },
        {
          "output_type": "display_data",
          "data": {
            "text/plain": [
              "  0%|          | 0/13 [00:00<?, ?ba/s]"
            ],
            "application/vnd.jupyter.widget-view+json": {
              "version_major": 2,
              "version_minor": 0,
              "model_id": "322063b6e42d4d47b7283f6731ca1939"
            }
          },
          "metadata": {}
        },
        {
          "output_type": "stream",
          "name": "stderr",
          "text": [
            "03/20/2022 20:42:04 - INFO - happytransformer.happy_transformer -   Training...\n",
            "/usr/local/lib/python3.7/dist-packages/transformers/optimization.py:309: FutureWarning: This implementation of AdamW is deprecated and will be removed in a future version. Use the PyTorch implementation torch.optim.AdamW instead, or set `no_deprecation_warning=True` to disable this warning\n",
            "  FutureWarning,\n",
            "***** Running training *****\n",
            "  Num examples = 12206\n",
            "  Num Epochs = 2\n",
            "  Instantaneous batch size per device = 1\n",
            "  Total train batch size (w. parallel, distributed & accumulation) = 1\n",
            "  Gradient Accumulation steps = 1\n",
            "  Total optimization steps = 24412\n"
          ]
        },
        {
          "output_type": "display_data",
          "data": {
            "text/plain": [
              "<IPython.core.display.HTML object>"
            ],
            "text/html": [
              "\n",
              "    <div>\n",
              "      \n",
              "      <progress value='24412' max='24412' style='width:300px; height:20px; vertical-align: middle;'></progress>\n",
              "      [24412/24412 1:49:44, Epoch 2/2]\n",
              "    </div>\n",
              "    <table border=\"1\" class=\"dataframe\">\n",
              "  <thead>\n",
              " <tr style=\"text-align: left;\">\n",
              "      <th>Step</th>\n",
              "      <th>Training Loss</th>\n",
              "    </tr>\n",
              "  </thead>\n",
              "  <tbody>\n",
              "    <tr>\n",
              "      <td>500</td>\n",
              "      <td>3.392000</td>\n",
              "    </tr>\n",
              "    <tr>\n",
              "      <td>1000</td>\n",
              "      <td>2.270800</td>\n",
              "    </tr>\n",
              "    <tr>\n",
              "      <td>1500</td>\n",
              "      <td>2.053100</td>\n",
              "    </tr>\n",
              "    <tr>\n",
              "      <td>2000</td>\n",
              "      <td>2.023500</td>\n",
              "    </tr>\n",
              "    <tr>\n",
              "      <td>2500</td>\n",
              "      <td>1.917300</td>\n",
              "    </tr>\n",
              "    <tr>\n",
              "      <td>3000</td>\n",
              "      <td>1.904500</td>\n",
              "    </tr>\n",
              "    <tr>\n",
              "      <td>3500</td>\n",
              "      <td>1.889600</td>\n",
              "    </tr>\n",
              "    <tr>\n",
              "      <td>4000</td>\n",
              "      <td>1.812700</td>\n",
              "    </tr>\n",
              "    <tr>\n",
              "      <td>4500</td>\n",
              "      <td>1.702800</td>\n",
              "    </tr>\n",
              "    <tr>\n",
              "      <td>5000</td>\n",
              "      <td>1.721300</td>\n",
              "    </tr>\n",
              "    <tr>\n",
              "      <td>5500</td>\n",
              "      <td>1.733800</td>\n",
              "    </tr>\n",
              "    <tr>\n",
              "      <td>6000</td>\n",
              "      <td>1.635400</td>\n",
              "    </tr>\n",
              "    <tr>\n",
              "      <td>6500</td>\n",
              "      <td>1.708400</td>\n",
              "    </tr>\n",
              "    <tr>\n",
              "      <td>7000</td>\n",
              "      <td>1.649500</td>\n",
              "    </tr>\n",
              "    <tr>\n",
              "      <td>7500</td>\n",
              "      <td>1.645200</td>\n",
              "    </tr>\n",
              "    <tr>\n",
              "      <td>8000</td>\n",
              "      <td>1.571400</td>\n",
              "    </tr>\n",
              "    <tr>\n",
              "      <td>8500</td>\n",
              "      <td>1.603700</td>\n",
              "    </tr>\n",
              "    <tr>\n",
              "      <td>9000</td>\n",
              "      <td>1.607700</td>\n",
              "    </tr>\n",
              "    <tr>\n",
              "      <td>9500</td>\n",
              "      <td>1.584800</td>\n",
              "    </tr>\n",
              "    <tr>\n",
              "      <td>10000</td>\n",
              "      <td>1.565900</td>\n",
              "    </tr>\n",
              "    <tr>\n",
              "      <td>10500</td>\n",
              "      <td>1.527100</td>\n",
              "    </tr>\n",
              "    <tr>\n",
              "      <td>11000</td>\n",
              "      <td>1.628700</td>\n",
              "    </tr>\n",
              "    <tr>\n",
              "      <td>11500</td>\n",
              "      <td>1.526700</td>\n",
              "    </tr>\n",
              "    <tr>\n",
              "      <td>12000</td>\n",
              "      <td>1.523900</td>\n",
              "    </tr>\n",
              "    <tr>\n",
              "      <td>12500</td>\n",
              "      <td>1.410600</td>\n",
              "    </tr>\n",
              "    <tr>\n",
              "      <td>13000</td>\n",
              "      <td>1.302900</td>\n",
              "    </tr>\n",
              "    <tr>\n",
              "      <td>13500</td>\n",
              "      <td>1.188900</td>\n",
              "    </tr>\n",
              "    <tr>\n",
              "      <td>14000</td>\n",
              "      <td>1.261900</td>\n",
              "    </tr>\n",
              "    <tr>\n",
              "      <td>14500</td>\n",
              "      <td>1.234200</td>\n",
              "    </tr>\n",
              "    <tr>\n",
              "      <td>15000</td>\n",
              "      <td>1.191500</td>\n",
              "    </tr>\n",
              "    <tr>\n",
              "      <td>15500</td>\n",
              "      <td>1.231100</td>\n",
              "    </tr>\n",
              "    <tr>\n",
              "      <td>16000</td>\n",
              "      <td>1.272900</td>\n",
              "    </tr>\n",
              "    <tr>\n",
              "      <td>16500</td>\n",
              "      <td>1.224400</td>\n",
              "    </tr>\n",
              "    <tr>\n",
              "      <td>17000</td>\n",
              "      <td>1.167200</td>\n",
              "    </tr>\n",
              "    <tr>\n",
              "      <td>17500</td>\n",
              "      <td>1.185200</td>\n",
              "    </tr>\n",
              "    <tr>\n",
              "      <td>18000</td>\n",
              "      <td>1.186700</td>\n",
              "    </tr>\n",
              "    <tr>\n",
              "      <td>18500</td>\n",
              "      <td>1.211900</td>\n",
              "    </tr>\n",
              "    <tr>\n",
              "      <td>19000</td>\n",
              "      <td>1.194200</td>\n",
              "    </tr>\n",
              "    <tr>\n",
              "      <td>19500</td>\n",
              "      <td>1.227800</td>\n",
              "    </tr>\n",
              "    <tr>\n",
              "      <td>20000</td>\n",
              "      <td>1.200600</td>\n",
              "    </tr>\n",
              "    <tr>\n",
              "      <td>20500</td>\n",
              "      <td>1.230100</td>\n",
              "    </tr>\n",
              "    <tr>\n",
              "      <td>21000</td>\n",
              "      <td>1.174700</td>\n",
              "    </tr>\n",
              "    <tr>\n",
              "      <td>21500</td>\n",
              "      <td>1.177900</td>\n",
              "    </tr>\n",
              "    <tr>\n",
              "      <td>22000</td>\n",
              "      <td>1.183900</td>\n",
              "    </tr>\n",
              "    <tr>\n",
              "      <td>22500</td>\n",
              "      <td>1.097000</td>\n",
              "    </tr>\n",
              "    <tr>\n",
              "      <td>23000</td>\n",
              "      <td>1.135600</td>\n",
              "    </tr>\n",
              "    <tr>\n",
              "      <td>23500</td>\n",
              "      <td>1.186600</td>\n",
              "    </tr>\n",
              "    <tr>\n",
              "      <td>24000</td>\n",
              "      <td>1.202700</td>\n",
              "    </tr>\n",
              "  </tbody>\n",
              "</table><p>"
            ]
          },
          "metadata": {}
        },
        {
          "output_type": "stream",
          "name": "stderr",
          "text": [
            "\n",
            "\n",
            "Training completed. Do not forget to share your model on huggingface.co/models =)\n",
            "\n",
            "\n"
          ]
        }
      ]
    },
    {
      "cell_type": "markdown",
      "source": [
        "## Evaluate model"
      ],
      "metadata": {
        "id": "qsEA2myDyijH"
      }
    },
    {
      "cell_type": "code",
      "source": [
        "from tqdm.notebook import tqdm\n",
        "\n",
        "# подготавливаем тест сет\n",
        "test_df = pd.read_csv(\"./russe_detox_2022/data/input/test.tsv\", sep=\"\\t\")\n",
        "output = [model.generate_text(entry) for entry in tqdm(list(test_df[\"toxic_comment\"]))]\n",
        "output[:20]"
      ],
      "metadata": {
        "colab": {
          "base_uri": "https://localhost:8080/"
        },
        "id": "_mTsDUMH_xiN",
        "outputId": "afd211e7-828c-4017-b205-712b081b6ebf"
      },
      "execution_count": null,
      "outputs": [
        {
          "output_type": "execute_result",
          "data": {
            "text/plain": [
              "[TextToTextResult(text='Кто это придумывает? Кто это придумывает'),\n",
              " TextToTextResult(text='В такой ситуации виноваты люди из Ростелекома у которых даже кошка может купить фильм с пульта'),\n",
              " TextToTextResult(text='актёр может и не плохой, но как человек - не хороший'),\n",
              " TextToTextResult(text='Наказывать всех кто нарушает общественный порядок..'),\n",
              " TextToTextResult(text='Такие же люди и привели этих людей..'),\n",
              " TextToTextResult(text='А зачем тогда ты здесь это писал? А зачем ты здесь это писал?'),\n",
              " TextToTextResult(text='Главный плохой человек года. повар из полиции из миннеаполиса сварщик из бейрута президент минска из d'),\n",
              " TextToTextResult(text='Начни сваих людей в покое'),\n",
              " TextToTextResult(text='дайте уже пожить, создать семью отдал 35 лет жизникормил меня, а мой отец 60 лет хватит'),\n",
              " TextToTextResult(text='а ты помнишь, что 41 год помнишь? сколько ей денег заплатили, чтоб она такую чушь несла.'),\n",
              " TextToTextResult(text='С которым через час расстаешься и будешь заниматься любовью с другими?'),\n",
              " TextToTextResult(text='Люди нехорошие. Они нехорошие.'),\n",
              " TextToTextResult(text='А судью бог накажет. Все возвращается бумерангом.'),\n",
              " TextToTextResult(text='Не отвечай на его провокации всё и так ясно'),\n",
              " TextToTextResult(text='И как земля их носит? Или они не правы?'),\n",
              " TextToTextResult(text='Какое поколение, украли машину у тех кто войну проиграл.стыдно должно быть'),\n",
              " TextToTextResult(text='о таких я даже не знаю, что писать!!!!'),\n",
              " TextToTextResult(text='где они такие зарплаты нашли??(('),\n",
              " TextToTextResult(text='Можно подумать, что конкуренты хотят народу помочь. Все во власть лезет. А его просто кто то тащит в депутаты!'),\n",
              " TextToTextResult(text='Проверили не мы, господа из провидтельства')]"
            ]
          },
          "metadata": {},
          "execution_count": 6
        }
      ]
    },
    {
      "cell_type": "code",
      "source": [
        "# сохраняем предсказания, подготавливаем для кодалаба\n",
        "with open(\"output_rut5_base_2.txt\", \"w\") as out_file:\n",
        "    out_file.write(\"\\n\".join([entry.text for entry in output]))\n",
        "\n",
        "!zip output_rut5_base_2.zip output_rut5_base_2.txt"
      ],
      "metadata": {
        "id": "46YPmUmbDMcc",
        "colab": {
          "base_uri": "https://localhost:8080/"
        },
        "outputId": "8c8183fe-924f-46d7-bd98-6ecef9516672"
      },
      "execution_count": null,
      "outputs": [
        {
          "output_type": "stream",
          "name": "stdout",
          "text": [
            "  adding: output_rut5_base_2.txt (deflated 68%)\n"
          ]
        }
      ]
    },
    {
      "cell_type": "markdown",
      "source": [
        "## Export model"
      ],
      "metadata": {
        "id": "7abEmHk0yv8_"
      }
    },
    {
      "cell_type": "code",
      "source": [
        "# сохраняем модель\n",
        "model.save(\"rut5_base_2/\")\n",
        "!tar -czf rut5_base_2.tar.gz rut5_base_2"
      ],
      "metadata": {
        "colab": {
          "base_uri": "https://localhost:8080/"
        },
        "outputId": "77aaca5b-3bd0-4e3c-9a36-fd29c8ebcde8",
        "id": "GNmyxpUa0M6C"
      },
      "execution_count": null,
      "outputs": [
        {
          "output_type": "stream",
          "name": "stderr",
          "text": [
            "Configuration saved in rut5_base_2/config.json\n",
            "Model weights saved in rut5_base_2/pytorch_model.bin\n",
            "tokenizer config file saved in rut5_base_2/tokenizer_config.json\n",
            "Special tokens file saved in rut5_base_2/special_tokens_map.json\n",
            "Copy vocab file to rut5_base_2/spiece.model\n"
          ]
        }
      ]
    },
    {
      "cell_type": "code",
      "source": [
        "from google.colab import drive\n",
        "drive.mount(\"/content/drive\")"
      ],
      "metadata": {
        "id": "QUQ5WDOQDdG1",
        "colab": {
          "base_uri": "https://localhost:8080/"
        },
        "outputId": "b30242ea-72e3-4579-dd59-f1ae294fcb0b"
      },
      "execution_count": null,
      "outputs": [
        {
          "output_type": "stream",
          "name": "stdout",
          "text": [
            "Mounted at /content/drive\n"
          ]
        }
      ]
    },
    {
      "cell_type": "code",
      "source": [
        "# выгружаем веса на гугл диск\n",
        "\n",
        "#!mkdir /content/drive/MyDrive/rudetox\n",
        "!cp rut5_base_2.tar.gz /content/drive/MyDrive/rudetox\n",
        "!cp output_rut5_base_2.zip /content/drive/MyDrive/rudetox"
      ],
      "metadata": {
        "id": "xWoaNYKODgrN"
      },
      "execution_count": null,
      "outputs": []
    }
  ]
}